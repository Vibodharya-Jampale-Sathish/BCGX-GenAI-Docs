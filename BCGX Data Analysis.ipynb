{
 "cells": [
  {
   "cell_type": "code",
   "execution_count": 27,
   "id": "1bc58023-a7e0-4743-9820-c92a7f31f5b3",
   "metadata": {},
   "outputs": [
    {
     "name": "stdout",
     "output_type": "stream",
     "text": [
      "2023 vs 2022 Percentage Changes:\n",
      "            Revenue % Change (2022–2023)  Net Income % Change (2022–2023)  \\\n",
      "Company                                                                    \n",
      "Apple                             -2.80                            -2.81   \n",
      "Microsoft                          6.88                            -0.52   \n",
      "Tesla                             18.80                            18.96   \n",
      "\n",
      "           Assets % Change (2022–2023)  Liabilities % Change (2022–2023)  \\\n",
      "Company                                                                    \n",
      "Apple                            -0.05                             -3.86   \n",
      "Microsoft                        12.92                              3.76   \n",
      "Tesla                            29.49                             18.03   \n",
      "\n",
      "           Cash Flow % Change (2022–2023)  \n",
      "Company                                    \n",
      "Apple                               -9.50  \n",
      "Microsoft                           -1.63  \n",
      "Tesla                               -9.97  \n",
      "\n",
      "2024 vs 2023 Percentage Changes:\n",
      "            Revenue % Change (2023–2024)  Net Income % Change (2023–2024)  \\\n",
      "Company                                                                    \n",
      "Apple                              2.02                            -3.36   \n",
      "Microsoft                         15.67                            21.80   \n",
      "Tesla                              0.95                           -52.23   \n",
      "\n",
      "           Assets % Change (2023–2024)  Liabilities % Change (2023–2024)  \\\n",
      "Company                                                                    \n",
      "Apple                             3.52                              6.06   \n",
      "Microsoft                        24.32                             18.44   \n",
      "Tesla                            14.49                             12.51   \n",
      "\n",
      "           Cash Flow % Change (2023–2024)  \n",
      "Company                                    \n",
      "Apple                                6.98  \n",
      "Microsoft                           35.36  \n",
      "Tesla                               12.58  \n"
     ]
    }
   ],
   "source": [
    "import pandas as pd\n",
    "\n",
    "df = pd.read_csv('/Users/vibodharyajampale/Library/CloudStorage/OneDrive-Personal/W_Desktop/Vibodharya Courses Material/Microsoft_Tesla_Apple Financial Analysis.csv')\n",
    "\n",
    "df_2022_2023 = df[df['Year'].isin([2022, 2023])]\n",
    "pivot_22_23 = df_2022_2023.pivot(index='Company', columns='Year')\n",
    "\n",
    "change_22_23 = pd.DataFrame()\n",
    "change_22_23['Revenue % Change (2022–2023)'] = (pivot_22_23['Total Revenue'][2023] - pivot_22_23['Total Revenue'][2022]) / pivot_22_23['Total Revenue'][2022] * 100\n",
    "change_22_23['Net Income % Change (2022–2023)'] = (pivot_22_23['Net Income'][2023] - pivot_22_23['Net Income'][2022]) / pivot_22_23['Net Income'][2022] * 100\n",
    "change_22_23['Assets % Change (2022–2023)'] = (pivot_22_23['Total Assets'][2023] - pivot_22_23['Total Assets'][2022]) / pivot_22_23['Total Assets'][2022] * 100\n",
    "change_22_23['Liabilities % Change (2022–2023)'] = (pivot_22_23['Total Liabilities'][2023] - pivot_22_23['Total Liabilities'][2022]) / pivot_22_23['Total Liabilities'][2022] * 100\n",
    "change_22_23['Cash Flow % Change (2022–2023)'] = (pivot_22_23['Cash Flow'][2023] - pivot_22_23['Cash Flow'][2022]) / pivot_22_23['Cash Flow'][2022] * 100\n",
    "\n",
    "# -----------------------\n",
    "# 2024 vs 2023 comparison\n",
    "# -----------------------\n",
    "df_2023_2024 = df[df['Year'].isin([2023, 2024])]\n",
    "pivot_23_24 = df_2023_2024.pivot(index='Company', columns='Year')\n",
    "\n",
    "change_23_24 = pd.DataFrame()\n",
    "change_23_24['Revenue % Change (2023–2024)'] = (pivot_23_24['Total Revenue'][2024] - pivot_23_24['Total Revenue'][2023]) / pivot_23_24['Total Revenue'][2023] * 100\n",
    "change_23_24['Net Income % Change (2023–2024)'] = (pivot_23_24['Net Income'][2024] - pivot_23_24['Net Income'][2023]) / pivot_23_24['Net Income'][2023] * 100\n",
    "change_23_24['Assets % Change (2023–2024)'] = (pivot_23_24['Total Assets'][2024] - pivot_23_24['Total Assets'][2023]) / pivot_23_24['Total Assets'][2023] * 100\n",
    "change_23_24['Liabilities % Change (2023–2024)'] = (pivot_23_24['Total Liabilities'][2024] - pivot_23_24['Total Liabilities'][2023]) / pivot_23_24['Total Liabilities'][2023] * 100\n",
    "change_23_24['Cash Flow % Change (2023–2024)'] = (pivot_23_24['Cash Flow'][2024] - pivot_23_24['Cash Flow'][2023]) / pivot_23_24['Cash Flow'][2023] * 100\n",
    "\n",
    "# Round for readability\n",
    "change_22_23 = change_22_23.round(2)\n",
    "change_23_24 = change_23_24.round(2)\n",
    "\n",
    "# Display both results\n",
    "print(\"2023 vs 2022 Percentage Changes:\\n\", change_22_23)\n",
    "print(\"\\n2024 vs 2023 Percentage Changes:\\n\", change_23_24)"
   ]
  },
  {
   "cell_type": "markdown",
   "id": "fb99b1f4-0cf4-4945-9ac6-ea3b039ec244",
   "metadata": {
    "editable": true,
    "slideshow": {
     "slide_type": ""
    },
    "tags": []
   },
   "source": [
    "## 📊 Financial Performance Analysis (2022–2024)\n",
    "\n",
    "## Apple:\n",
    "- Apple’s total revenue has remained relatively stable, with a slight dip followed by a recovery.\n",
    "- Net income has declined in both year-on-year comparisons, suggesting a possible drop in product sales. However, further analysis is required to determine which product segments were most affected.\n",
    "- Total assets have steadily increased over the 3-year period, reflecting growth in Apple’s asset base.\n",
    "- Liabilities have remained relatively consistent but have slightly increased, which may be linked to fluctuations in revenue or investments in new technology and research, as revenue increased once again.  \n",
    "- Cash flow from operations decreased between 2022 and 2023 but rose again in 2024, possibly following the trend in revenue recovery.\n",
    "\n",
    "## Microsoft:\n",
    "- Microsoft has shown consistent and strong growth in total revenue over the 3-year period.\n",
    "- Net income has also grown significantly, likely driven by the expansion of cloud services and increased enterprise demand, potentially due to AI adoption.\n",
    "- Asset accumulation has been substantial, possibly supported by rising net income and reinvestment into infrastructure or technology.\n",
    "- Liabilities have also increased, which could be due to funding expansion efforts or acquisitions, as the revenue and net income have both increased, giving the company sufficient cash to fund its expansion.\n",
    "- Operating cash flow has increased sharply by over 30%, in line with profitability, indicating healthy and growing liquidity.\n",
    "\n",
    "## Tesla:\n",
    "- Tesla experienced a significant increase in revenue from 2022 to 2023, followed by marginal growth in 2024.\n",
    "- Net income dropped sharply from 2023 to 2024 — over 50% — possibly due to increased investments in R&D, expansion, and pricing pressures. This reflects margin compression, as Tesla had to lower vehicle prices in response to competition from China's BYD, while also facing rising battery and industrial material costs.\n",
    "- Total assets have continued to grow over the years, though at a slower rate after 2023. This may be due to significant investments and possible inflation of assets, which could be risky. \n",
    "- Liabilities also grew over the period, which may be tied to the funding of ongoing projects or manufacturing expansion.\n",
    "- Interestingly, despite the drop in net income, cash flow from operations increased in 2024, possibly due to improved working capital management or non-income-related inflows.\n",
    "\n",
    "### 🔍 Comparative Insight:\n",
    "Among the three companies, Microsoft demonstrated the most consistent financial growth, while Apple showed resilience with steady asset expansion. Tesla's sharp drop in net income highlights the volatility often seen in high-growth companies navigating expansion and innovation simultaneously."
   ]
  }
 ],
 "metadata": {
  "kernelspec": {
   "display_name": "Python 3 (ipykernel)",
   "language": "python",
   "name": "python3"
  },
  "language_info": {
   "codemirror_mode": {
    "name": "ipython",
    "version": 3
   },
   "file_extension": ".py",
   "mimetype": "text/x-python",
   "name": "python",
   "nbconvert_exporter": "python",
   "pygments_lexer": "ipython3",
   "version": "3.13.5"
  }
 },
 "nbformat": 4,
 "nbformat_minor": 5
}
